{
 "cells": [
  {
   "cell_type": "code",
   "execution_count": 1,
   "metadata": {},
   "outputs": [],
   "source": [
    "import pandas as pd\n",
    "import numpy as np\n",
    "import os\n",
    "from scipy.sparse import csr_matrix"
   ]
  },
  {
   "cell_type": "code",
   "execution_count": 13,
   "metadata": {},
   "outputs": [
    {
     "data": {
      "text/plain": [
       "402"
      ]
     },
     "execution_count": 13,
     "metadata": {},
     "output_type": "execute_result"
    }
   ],
   "source": [
    "# Snigdha Chaturvedi's Features\n",
    "files = os.listdir(\"fullyAnnotatedSequences/\")\n",
    "df = pd.read_csv('sequences_features/'+ files[0][0:-5] + '.dat')\n",
    "i = 1\n",
    "df['sequence'] = i\n",
    "lengths = [len(df)]\n",
    "for file in files[1:]:\n",
    "    i += 1\n",
    "    small_df = pd.read_csv('sequences_features/'+ file[0:-5] + '.dat')\n",
    "    lengths.append(len(small_df))\n",
    "    small_df['sequence'] = i\n",
    "    df = df.append(small_df)\n",
    "\n",
    "df['unique_ID'] = df[\"sequence\"].map(str) + df[\"1:sentId\"]  \n",
    "\n",
    "snigdha_features = df[['29:posFramesFired',\n",
    " '30:negFramesFired',\n",
    " '31:otherFramesFired',\n",
    " '32:posFramewrtCharFired',\n",
    " '33:negFramewrtCharFired',\n",
    " '34:otherFrameswrtCharFired', 'unique_ID']]\n",
    "len(snigdha_features)\n"
   ]
  },
  {
   "cell_type": "code",
   "execution_count": 24,
   "metadata": {},
   "outputs": [],
   "source": [
    "# Very Fun Team's features\n",
    "vft_features = pd.read_csv('fully_features.csv')\n",
    "vft_features['unique_ID'] = vft_features['sequence'].map(str) + vft_features['sid']\n",
    "#vft_features"
   ]
  },
  {
   "cell_type": "code",
   "execution_count": 41,
   "metadata": {},
   "outputs": [],
   "source": [
    "features = pd.merge(snigdha_features, vft_features, how = 'inner')"
   ]
  },
  {
   "cell_type": "code",
   "execution_count": 42,
   "metadata": {},
   "outputs": [
    {
     "data": {
      "text/plain": [
       "382"
      ]
     },
     "execution_count": 42,
     "metadata": {},
     "output_type": "execute_result"
    }
   ],
   "source": [
    "len(features)"
   ]
  },
  {
   "cell_type": "code",
   "execution_count": 43,
   "metadata": {},
   "outputs": [
    {
     "data": {
      "text/plain": [
       "29:posFramesFired             0\n",
       "30:negFramesFired             0\n",
       "31:otherFramesFired           0\n",
       "32:posFramewrtCharFired       0\n",
       "33:negFramewrtCharFired       0\n",
       "34:otherFrameswrtCharFired    0\n",
       "unique_ID                     0\n",
       "Unnamed: 0                    0\n",
       "sequence                      0\n",
       "sid                           0\n",
       "pos_acts_toeachother          0\n",
       "neg_acts_toeachother          0\n",
       "pos_acts_together             0\n",
       "neg_acts_together             0\n",
       "pos_char1_acts                0\n",
       "neg_char1_acts                0\n",
       "pos_char2_acts                0\n",
       "neg_char2_acts                0\n",
       "pos                           0\n",
       "neg                           0\n",
       "dtype: int64"
      ]
     },
     "execution_count": 43,
     "metadata": {},
     "output_type": "execute_result"
    }
   ],
   "source": [
    "features.isnull().sum()"
   ]
  },
  {
   "cell_type": "code",
   "execution_count": null,
   "metadata": {},
   "outputs": [],
   "source": []
  }
 ],
 "metadata": {
  "kernelspec": {
   "display_name": "Python [default]",
   "language": "python",
   "name": "python3"
  },
  "language_info": {
   "codemirror_mode": {
    "name": "ipython",
    "version": 3
   },
   "file_extension": ".py",
   "mimetype": "text/x-python",
   "name": "python",
   "nbconvert_exporter": "python",
   "pygments_lexer": "ipython3",
   "version": "3.5.5"
  }
 },
 "nbformat": 4,
 "nbformat_minor": 2
}
