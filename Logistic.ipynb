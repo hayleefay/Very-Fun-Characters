{
 "cells": [
  {
   "cell_type": "code",
   "execution_count": 80,
   "metadata": {
    "collapsed": true
   },
   "outputs": [],
   "source": [
    "import numpy as np\n",
    "import matplotlib.pyplot as plt\n",
    "from sklearn import linear_model, datasets\n",
    "from sklearn.model_selection import train_test_split\n",
    "import sklearn\n",
    "import pandas as pd"
   ]
  },
  {
   "cell_type": "code",
   "execution_count": 97,
   "metadata": {},
   "outputs": [
    {
     "data": {
      "text/html": [
       "<div>\n",
       "<style>\n",
       "    .dataframe thead tr:only-child th {\n",
       "        text-align: right;\n",
       "    }\n",
       "\n",
       "    .dataframe thead th {\n",
       "        text-align: left;\n",
       "    }\n",
       "\n",
       "    .dataframe tbody tr th {\n",
       "        vertical-align: top;\n",
       "    }\n",
       "</style>\n",
       "<table border=\"1\" class=\"dataframe\">\n",
       "  <thead>\n",
       "    <tr style=\"text-align: right;\">\n",
       "      <th></th>\n",
       "      <th>sequence</th>\n",
       "      <th>sid</th>\n",
       "      <th>pos_acts_toeachother</th>\n",
       "      <th>neg_acts_toeachother</th>\n",
       "      <th>pos_acts_together</th>\n",
       "      <th>neg_acts_together</th>\n",
       "      <th>pos_char1_acts</th>\n",
       "      <th>neg_char1_acts</th>\n",
       "      <th>pos_char2_acts</th>\n",
       "      <th>neg_char2_acts</th>\n",
       "      <th>...</th>\n",
       "      <th>neg</th>\n",
       "      <th>filename</th>\n",
       "      <th>unique_ID</th>\n",
       "      <th>29:posFramesFired</th>\n",
       "      <th>30:negFramesFired</th>\n",
       "      <th>31:otherFramesFired</th>\n",
       "      <th>32:posFramewrtCharFired</th>\n",
       "      <th>33:negFramewrtCharFired</th>\n",
       "      <th>34:otherFrameswrtCharFired</th>\n",
       "      <th>manualLabel</th>\n",
       "    </tr>\n",
       "  </thead>\n",
       "  <tbody>\n",
       "    <tr>\n",
       "      <th>0</th>\n",
       "      <td>1</td>\n",
       "      <td>s0</td>\n",
       "      <td>0</td>\n",
       "      <td>0</td>\n",
       "      <td>0</td>\n",
       "      <td>0</td>\n",
       "      <td>0</td>\n",
       "      <td>0</td>\n",
       "      <td>0</td>\n",
       "      <td>1</td>\n",
       "      <td>...</td>\n",
       "      <td>1</td>\n",
       "      <td>aeschylus.libation.0.3.sent</td>\n",
       "      <td>aeschylus.libation.0.3.sents0</td>\n",
       "      <td>2</td>\n",
       "      <td>2</td>\n",
       "      <td>1</td>\n",
       "      <td>1</td>\n",
       "      <td>2</td>\n",
       "      <td>1</td>\n",
       "      <td>p</td>\n",
       "    </tr>\n",
       "    <tr>\n",
       "      <th>1</th>\n",
       "      <td>1</td>\n",
       "      <td>s9</td>\n",
       "      <td>0</td>\n",
       "      <td>0</td>\n",
       "      <td>0</td>\n",
       "      <td>0</td>\n",
       "      <td>0</td>\n",
       "      <td>0</td>\n",
       "      <td>0</td>\n",
       "      <td>0</td>\n",
       "      <td>...</td>\n",
       "      <td>0</td>\n",
       "      <td>aeschylus.libation.0.3.sent</td>\n",
       "      <td>aeschylus.libation.0.3.sents9</td>\n",
       "      <td>1</td>\n",
       "      <td>1</td>\n",
       "      <td>0</td>\n",
       "      <td>0</td>\n",
       "      <td>0</td>\n",
       "      <td>0</td>\n",
       "      <td>p</td>\n",
       "    </tr>\n",
       "    <tr>\n",
       "      <th>2</th>\n",
       "      <td>1</td>\n",
       "      <td>s10</td>\n",
       "      <td>0</td>\n",
       "      <td>0</td>\n",
       "      <td>0</td>\n",
       "      <td>0</td>\n",
       "      <td>0</td>\n",
       "      <td>0</td>\n",
       "      <td>1</td>\n",
       "      <td>0</td>\n",
       "      <td>...</td>\n",
       "      <td>0</td>\n",
       "      <td>aeschylus.libation.0.3.sent</td>\n",
       "      <td>aeschylus.libation.0.3.sents10</td>\n",
       "      <td>2</td>\n",
       "      <td>1</td>\n",
       "      <td>0</td>\n",
       "      <td>0</td>\n",
       "      <td>0</td>\n",
       "      <td>0</td>\n",
       "      <td>p</td>\n",
       "    </tr>\n",
       "    <tr>\n",
       "      <th>3</th>\n",
       "      <td>1</td>\n",
       "      <td>s12</td>\n",
       "      <td>0</td>\n",
       "      <td>0</td>\n",
       "      <td>0</td>\n",
       "      <td>0</td>\n",
       "      <td>0</td>\n",
       "      <td>0</td>\n",
       "      <td>0</td>\n",
       "      <td>0</td>\n",
       "      <td>...</td>\n",
       "      <td>0</td>\n",
       "      <td>aeschylus.libation.0.3.sent</td>\n",
       "      <td>aeschylus.libation.0.3.sents12</td>\n",
       "      <td>0</td>\n",
       "      <td>1</td>\n",
       "      <td>0</td>\n",
       "      <td>0</td>\n",
       "      <td>0</td>\n",
       "      <td>0</td>\n",
       "      <td>p</td>\n",
       "    </tr>\n",
       "    <tr>\n",
       "      <th>4</th>\n",
       "      <td>1</td>\n",
       "      <td>s13</td>\n",
       "      <td>0</td>\n",
       "      <td>0</td>\n",
       "      <td>0</td>\n",
       "      <td>0</td>\n",
       "      <td>0</td>\n",
       "      <td>0</td>\n",
       "      <td>0</td>\n",
       "      <td>0</td>\n",
       "      <td>...</td>\n",
       "      <td>2</td>\n",
       "      <td>aeschylus.libation.0.3.sent</td>\n",
       "      <td>aeschylus.libation.0.3.sents13</td>\n",
       "      <td>0</td>\n",
       "      <td>0</td>\n",
       "      <td>0</td>\n",
       "      <td>0</td>\n",
       "      <td>0</td>\n",
       "      <td>0</td>\n",
       "      <td>p</td>\n",
       "    </tr>\n",
       "  </tbody>\n",
       "</table>\n",
       "<p>5 rows × 21 columns</p>\n",
       "</div>"
      ],
      "text/plain": [
       "   sequence  sid  pos_acts_toeachother  neg_acts_toeachother  \\\n",
       "0         1   s0                     0                     0   \n",
       "1         1   s9                     0                     0   \n",
       "2         1  s10                     0                     0   \n",
       "3         1  s12                     0                     0   \n",
       "4         1  s13                     0                     0   \n",
       "\n",
       "   pos_acts_together  neg_acts_together  pos_char1_acts  neg_char1_acts  \\\n",
       "0                  0                  0               0               0   \n",
       "1                  0                  0               0               0   \n",
       "2                  0                  0               0               0   \n",
       "3                  0                  0               0               0   \n",
       "4                  0                  0               0               0   \n",
       "\n",
       "   pos_char2_acts  neg_char2_acts     ...       neg  \\\n",
       "0               0               1     ...         1   \n",
       "1               0               0     ...         0   \n",
       "2               1               0     ...         0   \n",
       "3               0               0     ...         0   \n",
       "4               0               0     ...         2   \n",
       "\n",
       "                      filename                       unique_ID  \\\n",
       "0  aeschylus.libation.0.3.sent   aeschylus.libation.0.3.sents0   \n",
       "1  aeschylus.libation.0.3.sent   aeschylus.libation.0.3.sents9   \n",
       "2  aeschylus.libation.0.3.sent  aeschylus.libation.0.3.sents10   \n",
       "3  aeschylus.libation.0.3.sent  aeschylus.libation.0.3.sents12   \n",
       "4  aeschylus.libation.0.3.sent  aeschylus.libation.0.3.sents13   \n",
       "\n",
       "  29:posFramesFired  30:negFramesFired  31:otherFramesFired  \\\n",
       "0                 2                  2                    1   \n",
       "1                 1                  1                    0   \n",
       "2                 2                  1                    0   \n",
       "3                 0                  1                    0   \n",
       "4                 0                  0                    0   \n",
       "\n",
       "   32:posFramewrtCharFired  33:negFramewrtCharFired  \\\n",
       "0                        1                        2   \n",
       "1                        0                        0   \n",
       "2                        0                        0   \n",
       "3                        0                        0   \n",
       "4                        0                        0   \n",
       "\n",
       "   34:otherFrameswrtCharFired  manualLabel  \n",
       "0                           1            p  \n",
       "1                           0            p  \n",
       "2                           0            p  \n",
       "3                           0            p  \n",
       "4                           0            p  \n",
       "\n",
       "[5 rows x 21 columns]"
      ]
     },
     "execution_count": 97,
     "metadata": {},
     "output_type": "execute_result"
    }
   ],
   "source": [
    "df = pd.read_csv(\"filtered_labelled_features.csv\")\n",
    "df = df.drop(['Unnamed: 0', 'Unnamed: 0.1'], axis=1)\n",
    "df.head()"
   ]
  },
  {
   "cell_type": "code",
   "execution_count": 99,
   "metadata": {},
   "outputs": [],
   "source": [
    "Y = df['manualLabel']\n",
    "X = df.drop(['manualLabel', 'filename', 'unique_ID', 'sequence', 'sid'], axis=1)\n",
    "\n",
    "X_train, X_test, y_train, y_test = train_test_split(X, Y, test_size = .20, random_state = 1234)"
   ]
  },
  {
   "cell_type": "code",
   "execution_count": 100,
   "metadata": {
    "scrolled": true
   },
   "outputs": [
    {
     "name": "stdout",
     "output_type": "stream",
     "text": [
      "0.8016528925619835\n"
     ]
    }
   ],
   "source": [
    "logreg = linear_model.LogisticRegression()\n",
    "\n",
    "# we create an instance of Neighbours Classifier and fit the data.\n",
    "logreg.fit(X_train, y_train)\n",
    "\n",
    "preds = logreg.predict(X_test)\n",
    "\n",
    "correct = 0 \n",
    "total = 0 \n",
    "\n",
    "for pred, target in zip(preds, y_test):\n",
    "    if pred == target:\n",
    "        correct += 1\n",
    "    total += 1\n",
    "    \n",
    "accuracy = correct/total \n",
    "print(accuracy)\n",
    "\n",
    "\n"
   ]
  },
  {
   "cell_type": "code",
   "execution_count": 101,
   "metadata": {},
   "outputs": [
    {
     "data": {
      "text/plain": [
       "(121,)"
      ]
     },
     "execution_count": 101,
     "metadata": {},
     "output_type": "execute_result"
    }
   ],
   "source": [
    "preds.shape"
   ]
  },
  {
   "cell_type": "code",
   "execution_count": 102,
   "metadata": {},
   "outputs": [
    {
     "name": "stdout",
     "output_type": "stream",
     "text": [
      "(121,)\n",
      "(121,)\n"
     ]
    }
   ],
   "source": [
    "results = pd.DataFrame()\n",
    "print(preds.shape)\n",
    "print(y_test.shape)\n",
    "results['pred'] = preds\n",
    "results['y_test'] = np.array(y_test)\n",
    "results['correct'] = 0"
   ]
  },
  {
   "cell_type": "code",
   "execution_count": 103,
   "metadata": {},
   "outputs": [
    {
     "data": {
      "text/html": [
       "<div>\n",
       "<style>\n",
       "    .dataframe thead tr:only-child th {\n",
       "        text-align: right;\n",
       "    }\n",
       "\n",
       "    .dataframe thead th {\n",
       "        text-align: left;\n",
       "    }\n",
       "\n",
       "    .dataframe tbody tr th {\n",
       "        vertical-align: top;\n",
       "    }\n",
       "</style>\n",
       "<table border=\"1\" class=\"dataframe\">\n",
       "  <thead>\n",
       "    <tr style=\"text-align: right;\">\n",
       "      <th></th>\n",
       "      <th>pred</th>\n",
       "      <th>y_test</th>\n",
       "      <th>correct</th>\n",
       "    </tr>\n",
       "  </thead>\n",
       "  <tbody>\n",
       "    <tr>\n",
       "      <th>0</th>\n",
       "      <td>p</td>\n",
       "      <td>p</td>\n",
       "      <td>0</td>\n",
       "    </tr>\n",
       "    <tr>\n",
       "      <th>1</th>\n",
       "      <td>p</td>\n",
       "      <td>p</td>\n",
       "      <td>0</td>\n",
       "    </tr>\n",
       "    <tr>\n",
       "      <th>2</th>\n",
       "      <td>p</td>\n",
       "      <td>p</td>\n",
       "      <td>0</td>\n",
       "    </tr>\n",
       "    <tr>\n",
       "      <th>3</th>\n",
       "      <td>p</td>\n",
       "      <td>p</td>\n",
       "      <td>0</td>\n",
       "    </tr>\n",
       "    <tr>\n",
       "      <th>4</th>\n",
       "      <td>p</td>\n",
       "      <td>p</td>\n",
       "      <td>0</td>\n",
       "    </tr>\n",
       "  </tbody>\n",
       "</table>\n",
       "</div>"
      ],
      "text/plain": [
       "  pred y_test  correct\n",
       "0    p      p        0\n",
       "1    p      p        0\n",
       "2    p      p        0\n",
       "3    p      p        0\n",
       "4    p      p        0"
      ]
     },
     "execution_count": 103,
     "metadata": {},
     "output_type": "execute_result"
    }
   ],
   "source": [
    "results.head()"
   ]
  },
  {
   "cell_type": "code",
   "execution_count": 104,
   "metadata": {
    "collapsed": true
   },
   "outputs": [],
   "source": [
    "results['correct'] = (results['pred'] == results['y_test']).astype(int)"
   ]
  },
  {
   "cell_type": "code",
   "execution_count": 105,
   "metadata": {},
   "outputs": [
    {
     "data": {
      "text/plain": [
       "p    98\n",
       "n    23\n",
       "Name: y_test, dtype: int64"
      ]
     },
     "execution_count": 105,
     "metadata": {},
     "output_type": "execute_result"
    }
   ],
   "source": [
    "results['y_test'].value_counts()"
   ]
  },
  {
   "cell_type": "code",
   "execution_count": 106,
   "metadata": {},
   "outputs": [
    {
     "data": {
      "text/plain": [
       "p    120\n",
       "n      1\n",
       "Name: pred, dtype: int64"
      ]
     },
     "execution_count": 106,
     "metadata": {},
     "output_type": "execute_result"
    }
   ],
   "source": [
    "results['pred'].value_counts()"
   ]
  },
  {
   "cell_type": "code",
   "execution_count": 107,
   "metadata": {},
   "outputs": [
    {
     "data": {
      "text/plain": [
       "0.8016528925619835"
      ]
     },
     "execution_count": 107,
     "metadata": {},
     "output_type": "execute_result"
    }
   ],
   "source": [
    "results['correct'].sum()/results['correct'].count()"
   ]
  },
  {
   "cell_type": "code",
   "execution_count": 108,
   "metadata": {},
   "outputs": [],
   "source": [
    "preds = preds.astype('str')\n",
    "y_test = y_test.astype('str')"
   ]
  },
  {
   "cell_type": "code",
   "execution_count": 109,
   "metadata": {},
   "outputs": [
    {
     "name": "stdout",
     "output_type": "stream",
     "text": [
      "{'n': 23, 'p': 1}\n",
      "{'n': 1, 'p': 23}\n",
      "{'n': 0, 'p': 97}\n"
     ]
    }
   ],
   "source": [
    "from sklearn.metrics import average_precision_score\n",
    "\n",
    "CF = sklearn.metrics.confusion_matrix(y_test.astype(str), preds)\n",
    "\n",
    "labs = ['n', 'p']\n",
    "\n",
    "FP = {}\n",
    "for r, label in enumerate(labs):\n",
    "    fp = 0\n",
    "    for c in range(2):\n",
    "        if r != c: \n",
    "            fp += CF[r][c]\n",
    "        FP[label] = fp           \n",
    "print(FP)\n",
    "\n",
    "\n",
    "FN = {}\n",
    "for c, label in enumerate(labs):\n",
    "    fn = 0 \n",
    "    for r in range(2):\n",
    "        if c != r: \n",
    "            fn += CF[r][c]\n",
    "        FN[label] = fn\n",
    "print(FN)\n",
    "\n",
    "TP = {}\n",
    "for r, label in enumerate(labs):\n",
    "    for c in range(2):\n",
    "        if r == c:\n",
    "            TP[label] = CF[r][c]\n",
    "\n",
    "print(TP)"
   ]
  },
  {
   "cell_type": "code",
   "execution_count": 110,
   "metadata": {},
   "outputs": [
    {
     "name": "stdout",
     "output_type": "stream",
     "text": [
      "{'n': {'precision': 0.0, 'recall': 0.0, 'F1': nan}, 'p': {'precision': 0.9897959183673469, 'recall': 0.8083333333333333, 'F1': 0.8899082568807339}}\n"
     ]
    },
    {
     "name": "stderr",
     "output_type": "stream",
     "text": [
      "/usr/local/anaconda3/lib/python3.6/site-packages/ipykernel_launcher.py:12: RuntimeWarning: invalid value encountered in double_scalars\n",
      "  if sys.path[0] == '':\n"
     ]
    }
   ],
   "source": [
    "# calculating precision and recall \n",
    "\n",
    "# precision = TP / TP + FP \n",
    "\n",
    "# recal = TP / TP + FN \n",
    "\n",
    "results = {'n': {}, 'p': {}}\n",
    "\n",
    "for lab in labs:\n",
    "    results[lab]['precision'] = TP[lab] / (TP[lab] + FP[lab])\n",
    "    results[lab]['recall'] = TP[lab] / (TP[lab] + FN[lab])\n",
    "    results[lab]['F1'] = 2 * ((results[lab]['precision'] * results[lab]['recall']) / (results[lab]['precision'] + results[lab]['recall']))\n",
    "    \n",
    "\n",
    "print(results)\n",
    "    "
   ]
  },
  {
   "cell_type": "code",
   "execution_count": 111,
   "metadata": {},
   "outputs": [
    {
     "data": {
      "text/plain": [
       "0.8016528925619835"
      ]
     },
     "execution_count": 111,
     "metadata": {},
     "output_type": "execute_result"
    }
   ],
   "source": [
    "from sklearn.metrics import accuracy_score, precision_score, recall_score, f1_score\n",
    "accuracy_score(y_test, preds)"
   ]
  },
  {
   "cell_type": "code",
   "execution_count": 112,
   "metadata": {},
   "outputs": [
    {
     "data": {
      "text/plain": [
       "array([0.        , 0.80833333])"
      ]
     },
     "execution_count": 112,
     "metadata": {},
     "output_type": "execute_result"
    }
   ],
   "source": [
    "precision_score(y_test, preds, average=None)"
   ]
  },
  {
   "cell_type": "code",
   "execution_count": 113,
   "metadata": {},
   "outputs": [
    {
     "data": {
      "text/plain": [
       "array([0.        , 0.98979592])"
      ]
     },
     "execution_count": 113,
     "metadata": {},
     "output_type": "execute_result"
    }
   ],
   "source": [
    "recall_score(y_test, preds, average=None)"
   ]
  },
  {
   "cell_type": "code",
   "execution_count": 114,
   "metadata": {},
   "outputs": [
    {
     "data": {
      "text/plain": [
       "array([0.        , 0.88990826])"
      ]
     },
     "execution_count": 114,
     "metadata": {},
     "output_type": "execute_result"
    }
   ],
   "source": [
    "f1_score(y_test, preds, average=None)"
   ]
  },
  {
   "cell_type": "code",
   "execution_count": null,
   "metadata": {
    "collapsed": true
   },
   "outputs": [],
   "source": []
  }
 ],
 "metadata": {
  "kernelspec": {
   "display_name": "Python 3",
   "language": "python",
   "name": "python3"
  },
  "language_info": {
   "codemirror_mode": {
    "name": "ipython",
    "version": 3
   },
   "file_extension": ".py",
   "mimetype": "text/x-python",
   "name": "python",
   "nbconvert_exporter": "python",
   "pygments_lexer": "ipython3",
   "version": "3.6.3"
  }
 },
 "nbformat": 4,
 "nbformat_minor": 2
}
