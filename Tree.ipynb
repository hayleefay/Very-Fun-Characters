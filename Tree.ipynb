{
 "cells": [
  {
   "cell_type": "code",
   "execution_count": 34,
   "metadata": {
    "collapsed": true
   },
   "outputs": [],
   "source": [
    "import numpy as np\n",
    "import matplotlib.pyplot as plt\n",
    "from sklearn import tree, datasets\n",
    "from sklearn.model_selection import train_test_split\n",
    "import sklearn\n",
    "import pandas as pd"
   ]
  },
  {
   "cell_type": "code",
   "execution_count": 35,
   "metadata": {},
   "outputs": [
    {
     "data": {
      "text/html": [
       "<div>\n",
       "<style>\n",
       "    .dataframe thead tr:only-child th {\n",
       "        text-align: right;\n",
       "    }\n",
       "\n",
       "    .dataframe thead th {\n",
       "        text-align: left;\n",
       "    }\n",
       "\n",
       "    .dataframe tbody tr th {\n",
       "        vertical-align: top;\n",
       "    }\n",
       "</style>\n",
       "<table border=\"1\" class=\"dataframe\">\n",
       "  <thead>\n",
       "    <tr style=\"text-align: right;\">\n",
       "      <th></th>\n",
       "      <th>sequence</th>\n",
       "      <th>sid</th>\n",
       "      <th>pos_acts_toeachother</th>\n",
       "      <th>neg_acts_toeachother</th>\n",
       "      <th>pos_acts_together</th>\n",
       "      <th>neg_acts_together</th>\n",
       "      <th>pos_char1_acts</th>\n",
       "      <th>neg_char1_acts</th>\n",
       "      <th>pos_char2_acts</th>\n",
       "      <th>neg_char2_acts</th>\n",
       "      <th>...</th>\n",
       "      <th>neg</th>\n",
       "      <th>filename</th>\n",
       "      <th>unique_ID</th>\n",
       "      <th>29:posFramesFired</th>\n",
       "      <th>30:negFramesFired</th>\n",
       "      <th>31:otherFramesFired</th>\n",
       "      <th>32:posFramewrtCharFired</th>\n",
       "      <th>33:negFramewrtCharFired</th>\n",
       "      <th>34:otherFrameswrtCharFired</th>\n",
       "      <th>manualLabel</th>\n",
       "    </tr>\n",
       "  </thead>\n",
       "  <tbody>\n",
       "    <tr>\n",
       "      <th>0</th>\n",
       "      <td>1</td>\n",
       "      <td>s0</td>\n",
       "      <td>0</td>\n",
       "      <td>0</td>\n",
       "      <td>0</td>\n",
       "      <td>0</td>\n",
       "      <td>0</td>\n",
       "      <td>0</td>\n",
       "      <td>0</td>\n",
       "      <td>1</td>\n",
       "      <td>...</td>\n",
       "      <td>1</td>\n",
       "      <td>aeschylus.libation.0.3.sent</td>\n",
       "      <td>aeschylus.libation.0.3.sents0</td>\n",
       "      <td>2</td>\n",
       "      <td>2</td>\n",
       "      <td>1</td>\n",
       "      <td>1</td>\n",
       "      <td>2</td>\n",
       "      <td>1</td>\n",
       "      <td>p</td>\n",
       "    </tr>\n",
       "    <tr>\n",
       "      <th>1</th>\n",
       "      <td>1</td>\n",
       "      <td>s9</td>\n",
       "      <td>0</td>\n",
       "      <td>0</td>\n",
       "      <td>0</td>\n",
       "      <td>0</td>\n",
       "      <td>0</td>\n",
       "      <td>0</td>\n",
       "      <td>0</td>\n",
       "      <td>0</td>\n",
       "      <td>...</td>\n",
       "      <td>0</td>\n",
       "      <td>aeschylus.libation.0.3.sent</td>\n",
       "      <td>aeschylus.libation.0.3.sents9</td>\n",
       "      <td>1</td>\n",
       "      <td>1</td>\n",
       "      <td>0</td>\n",
       "      <td>0</td>\n",
       "      <td>0</td>\n",
       "      <td>0</td>\n",
       "      <td>p</td>\n",
       "    </tr>\n",
       "    <tr>\n",
       "      <th>2</th>\n",
       "      <td>1</td>\n",
       "      <td>s10</td>\n",
       "      <td>0</td>\n",
       "      <td>0</td>\n",
       "      <td>0</td>\n",
       "      <td>0</td>\n",
       "      <td>0</td>\n",
       "      <td>0</td>\n",
       "      <td>1</td>\n",
       "      <td>0</td>\n",
       "      <td>...</td>\n",
       "      <td>0</td>\n",
       "      <td>aeschylus.libation.0.3.sent</td>\n",
       "      <td>aeschylus.libation.0.3.sents10</td>\n",
       "      <td>2</td>\n",
       "      <td>1</td>\n",
       "      <td>0</td>\n",
       "      <td>0</td>\n",
       "      <td>0</td>\n",
       "      <td>0</td>\n",
       "      <td>p</td>\n",
       "    </tr>\n",
       "    <tr>\n",
       "      <th>3</th>\n",
       "      <td>1</td>\n",
       "      <td>s12</td>\n",
       "      <td>0</td>\n",
       "      <td>0</td>\n",
       "      <td>0</td>\n",
       "      <td>0</td>\n",
       "      <td>0</td>\n",
       "      <td>0</td>\n",
       "      <td>0</td>\n",
       "      <td>0</td>\n",
       "      <td>...</td>\n",
       "      <td>0</td>\n",
       "      <td>aeschylus.libation.0.3.sent</td>\n",
       "      <td>aeschylus.libation.0.3.sents12</td>\n",
       "      <td>0</td>\n",
       "      <td>1</td>\n",
       "      <td>0</td>\n",
       "      <td>0</td>\n",
       "      <td>0</td>\n",
       "      <td>0</td>\n",
       "      <td>p</td>\n",
       "    </tr>\n",
       "    <tr>\n",
       "      <th>4</th>\n",
       "      <td>1</td>\n",
       "      <td>s13</td>\n",
       "      <td>0</td>\n",
       "      <td>0</td>\n",
       "      <td>0</td>\n",
       "      <td>0</td>\n",
       "      <td>0</td>\n",
       "      <td>0</td>\n",
       "      <td>0</td>\n",
       "      <td>0</td>\n",
       "      <td>...</td>\n",
       "      <td>2</td>\n",
       "      <td>aeschylus.libation.0.3.sent</td>\n",
       "      <td>aeschylus.libation.0.3.sents13</td>\n",
       "      <td>0</td>\n",
       "      <td>0</td>\n",
       "      <td>0</td>\n",
       "      <td>0</td>\n",
       "      <td>0</td>\n",
       "      <td>0</td>\n",
       "      <td>p</td>\n",
       "    </tr>\n",
       "  </tbody>\n",
       "</table>\n",
       "<p>5 rows × 21 columns</p>\n",
       "</div>"
      ],
      "text/plain": [
       "   sequence  sid  pos_acts_toeachother  neg_acts_toeachother  \\\n",
       "0         1   s0                     0                     0   \n",
       "1         1   s9                     0                     0   \n",
       "2         1  s10                     0                     0   \n",
       "3         1  s12                     0                     0   \n",
       "4         1  s13                     0                     0   \n",
       "\n",
       "   pos_acts_together  neg_acts_together  pos_char1_acts  neg_char1_acts  \\\n",
       "0                  0                  0               0               0   \n",
       "1                  0                  0               0               0   \n",
       "2                  0                  0               0               0   \n",
       "3                  0                  0               0               0   \n",
       "4                  0                  0               0               0   \n",
       "\n",
       "   pos_char2_acts  neg_char2_acts     ...       neg  \\\n",
       "0               0               1     ...         1   \n",
       "1               0               0     ...         0   \n",
       "2               1               0     ...         0   \n",
       "3               0               0     ...         0   \n",
       "4               0               0     ...         2   \n",
       "\n",
       "                      filename                       unique_ID  \\\n",
       "0  aeschylus.libation.0.3.sent   aeschylus.libation.0.3.sents0   \n",
       "1  aeschylus.libation.0.3.sent   aeschylus.libation.0.3.sents9   \n",
       "2  aeschylus.libation.0.3.sent  aeschylus.libation.0.3.sents10   \n",
       "3  aeschylus.libation.0.3.sent  aeschylus.libation.0.3.sents12   \n",
       "4  aeschylus.libation.0.3.sent  aeschylus.libation.0.3.sents13   \n",
       "\n",
       "  29:posFramesFired  30:negFramesFired  31:otherFramesFired  \\\n",
       "0                 2                  2                    1   \n",
       "1                 1                  1                    0   \n",
       "2                 2                  1                    0   \n",
       "3                 0                  1                    0   \n",
       "4                 0                  0                    0   \n",
       "\n",
       "   32:posFramewrtCharFired  33:negFramewrtCharFired  \\\n",
       "0                        1                        2   \n",
       "1                        0                        0   \n",
       "2                        0                        0   \n",
       "3                        0                        0   \n",
       "4                        0                        0   \n",
       "\n",
       "   34:otherFrameswrtCharFired  manualLabel  \n",
       "0                           1            p  \n",
       "1                           0            p  \n",
       "2                           0            p  \n",
       "3                           0            p  \n",
       "4                           0            p  \n",
       "\n",
       "[5 rows x 21 columns]"
      ]
     },
     "execution_count": 35,
     "metadata": {},
     "output_type": "execute_result"
    }
   ],
   "source": [
    "df = pd.read_csv(\"filtered_labelled_features.csv\")\n",
    "df = df.drop(['Unnamed: 0', 'Unnamed: 0.1'], axis=1)\n",
    "df.head()"
   ]
  },
  {
   "cell_type": "code",
   "execution_count": 36,
   "metadata": {},
   "outputs": [],
   "source": [
    "# df[df['manualLabel'] == 'p']['label'] = 1\n",
    "# df[df['manualLabel'] == 'n']['label'] = 0\n",
    "\n",
    "# df.shape\n",
    "# df.head()"
   ]
  },
  {
   "cell_type": "code",
   "execution_count": 37,
   "metadata": {},
   "outputs": [],
   "source": [
    "Y = df['manualLabel']\n",
    "X = df.drop(['manualLabel', 'filename', 'unique_ID', 'sequence', 'sid'], axis=1)\n",
    "\n",
    "X_train, X_test, y_train, y_test = train_test_split(X, Y, test_size = .20, random_state = 1234)"
   ]
  },
  {
   "cell_type": "code",
   "execution_count": 38,
   "metadata": {},
   "outputs": [],
   "source": [
    "# training decision tree \n",
    "clf = tree.DecisionTreeClassifier()\n",
    "clf = clf.fit(X_train, y_train)\n",
    "\n",
    "# make predictions on test set \n",
    "preds = clf.predict(X_test)"
   ]
  },
  {
   "cell_type": "code",
   "execution_count": 39,
   "metadata": {},
   "outputs": [
    {
     "name": "stdout",
     "output_type": "stream",
     "text": [
      "0.743801652892562\n"
     ]
    }
   ],
   "source": [
    "correct = 0 \n",
    "total = 0 \n",
    "\n",
    "for pred, target in zip(preds, y_test):\n",
    "    if pred == target:\n",
    "        correct += 1    \n",
    "    total += 1\n",
    "    \n",
    "accuracy = correct/total \n",
    "print(accuracy)"
   ]
  },
  {
   "cell_type": "code",
   "execution_count": 43,
   "metadata": {},
   "outputs": [
    {
     "name": "stdout",
     "output_type": "stream",
     "text": [
      "[[ 7 16]\n",
      " [15 83]]\n"
     ]
    }
   ],
   "source": [
    "from sklearn.metrics import average_precision_score\n",
    "\n",
    "CF = sklearn.metrics.confusion_matrix(y_test.astype(str), preds)\n",
    "print(CF)"
   ]
  },
  {
   "cell_type": "code",
   "execution_count": 45,
   "metadata": {},
   "outputs": [
    {
     "name": "stdout",
     "output_type": "stream",
     "text": [
      "{'n': 16, 'p': 15}\n",
      "{'n': 15, 'p': 16}\n",
      "{'n': 7, 'p': 83}\n"
     ]
    }
   ],
   "source": [
    "labs = ['n', 'p']\n",
    "\n",
    "FP = {}\n",
    "for r, label in enumerate(labs):\n",
    "    fp = 0\n",
    "    for c in range(2):\n",
    "        if r != c: \n",
    "            fp += CF[r][c]\n",
    "        FP[label] = fp           \n",
    "print(FP)\n",
    "\n",
    "\n",
    "FN = {}\n",
    "for c, label in enumerate(labs):\n",
    "    fn = 0 \n",
    "    for r in range(2):\n",
    "        if c != r: \n",
    "            fn += CF[r][c]\n",
    "        FN[label] = fn\n",
    "print(FN)\n",
    "\n",
    "TP = {}\n",
    "for r, label in enumerate(labs):\n",
    "    for c in range(2):\n",
    "        if r == c:\n",
    "            TP[label] = CF[r][c]\n",
    "\n",
    "print(TP)\n"
   ]
  },
  {
   "cell_type": "code",
   "execution_count": 46,
   "metadata": {},
   "outputs": [
    {
     "name": "stdout",
     "output_type": "stream",
     "text": [
      "{'n': {'precision': 0.30434782608695654, 'recall': 0.3181818181818182, 'F1': 0.31111111111111117}, 'p': {'precision': 0.8469387755102041, 'recall': 0.8383838383838383, 'F1': 0.8426395939086294}}\n"
     ]
    }
   ],
   "source": [
    "# calculating precision and recall \n",
    "\n",
    "# precision = TP / TP + FP \n",
    "\n",
    "# recal = TP / TP + FN \n",
    "\n",
    "results = {'n': {}, 'p': {}}\n",
    "\n",
    "for lab in labs:\n",
    "    results[lab]['precision'] = TP[lab] / (TP[lab] + FP[lab])\n",
    "    results[lab]['recall'] = TP[lab] / (TP[lab] + FN[lab])\n",
    "    results[lab]['F1'] = 2 * ((results[lab]['precision'] * results[lab]['recall']) / (results[lab]['precision'] + results[lab]['recall']))\n",
    "\n",
    "    \n",
    "\n",
    "print(results)\n",
    "    \n",
    "    "
   ]
  },
  {
   "cell_type": "code",
   "execution_count": 47,
   "metadata": {},
   "outputs": [
    {
     "data": {
      "text/plain": [
       "0.743801652892562"
      ]
     },
     "execution_count": 47,
     "metadata": {},
     "output_type": "execute_result"
    }
   ],
   "source": [
    "from sklearn.metrics import accuracy_score, precision_score, recall_score, f1_score\n",
    "accuracy_score(y_test.astype('str'), preds.astype('str'))"
   ]
  },
  {
   "cell_type": "code",
   "execution_count": 48,
   "metadata": {},
   "outputs": [
    {
     "data": {
      "text/plain": [
       "array([0.31818182, 0.83838384])"
      ]
     },
     "execution_count": 48,
     "metadata": {},
     "output_type": "execute_result"
    }
   ],
   "source": [
    "precision_score(y_test.astype('str'), preds.astype('str'), average=None)"
   ]
  },
  {
   "cell_type": "code",
   "execution_count": 49,
   "metadata": {},
   "outputs": [
    {
     "data": {
      "text/plain": [
       "array([0.30434783, 0.84693878])"
      ]
     },
     "execution_count": 49,
     "metadata": {},
     "output_type": "execute_result"
    }
   ],
   "source": [
    "recall_score(y_test.astype('str'), preds.astype('str'), average=None)"
   ]
  },
  {
   "cell_type": "code",
   "execution_count": 50,
   "metadata": {},
   "outputs": [
    {
     "data": {
      "text/plain": [
       "array([0.31111111, 0.84263959])"
      ]
     },
     "execution_count": 50,
     "metadata": {},
     "output_type": "execute_result"
    }
   ],
   "source": [
    "f1_score(y_test.astype('str'), preds.astype('str'), average=None)"
   ]
  },
  {
   "cell_type": "code",
   "execution_count": null,
   "metadata": {
    "collapsed": true
   },
   "outputs": [],
   "source": []
  }
 ],
 "metadata": {
  "kernelspec": {
   "display_name": "Python 3",
   "language": "python",
   "name": "python3"
  },
  "language_info": {
   "codemirror_mode": {
    "name": "ipython",
    "version": 3
   },
   "file_extension": ".py",
   "mimetype": "text/x-python",
   "name": "python",
   "nbconvert_exporter": "python",
   "pygments_lexer": "ipython3",
   "version": "3.6.3"
  }
 },
 "nbformat": 4,
 "nbformat_minor": 2
}
