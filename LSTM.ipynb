{
 "cells": [
  {
   "cell_type": "code",
   "execution_count": 253,
   "metadata": {},
   "outputs": [],
   "source": [
    "import numpy\n",
    "from keras.models import Sequential\n",
    "from keras.layers import Dense, LSTM, Dropout, Activation\n",
    "from keras.preprocessing import sequence\n",
    "from keras.datasets import imdb\n",
    "import pandas as pd\n",
    "import numpy as np\n",
    "import keras\n",
    "from matplotlib import pyplot\n",
    "from sklearn.model_selection import train_test_split\n",
    "# fix random seed for reproducibility\n",
    "numpy.random.seed(7)"
   ]
  },
  {
   "cell_type": "code",
   "execution_count": 254,
   "metadata": {},
   "outputs": [
    {
     "data": {
      "text/html": [
       "<div>\n",
       "<style>\n",
       "    .dataframe thead tr:only-child th {\n",
       "        text-align: right;\n",
       "    }\n",
       "\n",
       "    .dataframe thead th {\n",
       "        text-align: left;\n",
       "    }\n",
       "\n",
       "    .dataframe tbody tr th {\n",
       "        vertical-align: top;\n",
       "    }\n",
       "</style>\n",
       "<table border=\"1\" class=\"dataframe\">\n",
       "  <thead>\n",
       "    <tr style=\"text-align: right;\">\n",
       "      <th></th>\n",
       "      <th>sequence</th>\n",
       "      <th>sid</th>\n",
       "      <th>pos_acts_toeachother</th>\n",
       "      <th>neg_acts_toeachother</th>\n",
       "      <th>pos_acts_together</th>\n",
       "      <th>neg_acts_together</th>\n",
       "      <th>pos_char1_acts</th>\n",
       "      <th>neg_char1_acts</th>\n",
       "      <th>pos_char2_acts</th>\n",
       "      <th>neg_char2_acts</th>\n",
       "      <th>...</th>\n",
       "      <th>neg</th>\n",
       "      <th>filename</th>\n",
       "      <th>unique_ID</th>\n",
       "      <th>29:posFramesFired</th>\n",
       "      <th>30:negFramesFired</th>\n",
       "      <th>31:otherFramesFired</th>\n",
       "      <th>32:posFramewrtCharFired</th>\n",
       "      <th>33:negFramewrtCharFired</th>\n",
       "      <th>34:otherFrameswrtCharFired</th>\n",
       "      <th>manualLabel</th>\n",
       "    </tr>\n",
       "  </thead>\n",
       "  <tbody>\n",
       "    <tr>\n",
       "      <th>0</th>\n",
       "      <td>1</td>\n",
       "      <td>s0</td>\n",
       "      <td>0</td>\n",
       "      <td>0</td>\n",
       "      <td>0</td>\n",
       "      <td>0</td>\n",
       "      <td>0</td>\n",
       "      <td>0</td>\n",
       "      <td>0</td>\n",
       "      <td>1</td>\n",
       "      <td>...</td>\n",
       "      <td>1</td>\n",
       "      <td>aeschylus.libation.0.3.sent</td>\n",
       "      <td>aeschylus.libation.0.3.sents0</td>\n",
       "      <td>2</td>\n",
       "      <td>2</td>\n",
       "      <td>1</td>\n",
       "      <td>1</td>\n",
       "      <td>2</td>\n",
       "      <td>1</td>\n",
       "      <td>p</td>\n",
       "    </tr>\n",
       "    <tr>\n",
       "      <th>1</th>\n",
       "      <td>1</td>\n",
       "      <td>s9</td>\n",
       "      <td>0</td>\n",
       "      <td>0</td>\n",
       "      <td>0</td>\n",
       "      <td>0</td>\n",
       "      <td>0</td>\n",
       "      <td>0</td>\n",
       "      <td>0</td>\n",
       "      <td>0</td>\n",
       "      <td>...</td>\n",
       "      <td>0</td>\n",
       "      <td>aeschylus.libation.0.3.sent</td>\n",
       "      <td>aeschylus.libation.0.3.sents9</td>\n",
       "      <td>1</td>\n",
       "      <td>1</td>\n",
       "      <td>0</td>\n",
       "      <td>0</td>\n",
       "      <td>0</td>\n",
       "      <td>0</td>\n",
       "      <td>p</td>\n",
       "    </tr>\n",
       "    <tr>\n",
       "      <th>2</th>\n",
       "      <td>1</td>\n",
       "      <td>s10</td>\n",
       "      <td>0</td>\n",
       "      <td>0</td>\n",
       "      <td>0</td>\n",
       "      <td>0</td>\n",
       "      <td>0</td>\n",
       "      <td>0</td>\n",
       "      <td>1</td>\n",
       "      <td>0</td>\n",
       "      <td>...</td>\n",
       "      <td>0</td>\n",
       "      <td>aeschylus.libation.0.3.sent</td>\n",
       "      <td>aeschylus.libation.0.3.sents10</td>\n",
       "      <td>2</td>\n",
       "      <td>1</td>\n",
       "      <td>0</td>\n",
       "      <td>0</td>\n",
       "      <td>0</td>\n",
       "      <td>0</td>\n",
       "      <td>p</td>\n",
       "    </tr>\n",
       "    <tr>\n",
       "      <th>3</th>\n",
       "      <td>1</td>\n",
       "      <td>s12</td>\n",
       "      <td>0</td>\n",
       "      <td>0</td>\n",
       "      <td>0</td>\n",
       "      <td>0</td>\n",
       "      <td>0</td>\n",
       "      <td>0</td>\n",
       "      <td>0</td>\n",
       "      <td>0</td>\n",
       "      <td>...</td>\n",
       "      <td>0</td>\n",
       "      <td>aeschylus.libation.0.3.sent</td>\n",
       "      <td>aeschylus.libation.0.3.sents12</td>\n",
       "      <td>0</td>\n",
       "      <td>1</td>\n",
       "      <td>0</td>\n",
       "      <td>0</td>\n",
       "      <td>0</td>\n",
       "      <td>0</td>\n",
       "      <td>p</td>\n",
       "    </tr>\n",
       "    <tr>\n",
       "      <th>4</th>\n",
       "      <td>1</td>\n",
       "      <td>s13</td>\n",
       "      <td>0</td>\n",
       "      <td>0</td>\n",
       "      <td>0</td>\n",
       "      <td>0</td>\n",
       "      <td>0</td>\n",
       "      <td>0</td>\n",
       "      <td>0</td>\n",
       "      <td>0</td>\n",
       "      <td>...</td>\n",
       "      <td>2</td>\n",
       "      <td>aeschylus.libation.0.3.sent</td>\n",
       "      <td>aeschylus.libation.0.3.sents13</td>\n",
       "      <td>0</td>\n",
       "      <td>0</td>\n",
       "      <td>0</td>\n",
       "      <td>0</td>\n",
       "      <td>0</td>\n",
       "      <td>0</td>\n",
       "      <td>p</td>\n",
       "    </tr>\n",
       "  </tbody>\n",
       "</table>\n",
       "<p>5 rows × 21 columns</p>\n",
       "</div>"
      ],
      "text/plain": [
       "   sequence  sid  pos_acts_toeachother  neg_acts_toeachother  \\\n",
       "0         1   s0                     0                     0   \n",
       "1         1   s9                     0                     0   \n",
       "2         1  s10                     0                     0   \n",
       "3         1  s12                     0                     0   \n",
       "4         1  s13                     0                     0   \n",
       "\n",
       "   pos_acts_together  neg_acts_together  pos_char1_acts  neg_char1_acts  \\\n",
       "0                  0                  0               0               0   \n",
       "1                  0                  0               0               0   \n",
       "2                  0                  0               0               0   \n",
       "3                  0                  0               0               0   \n",
       "4                  0                  0               0               0   \n",
       "\n",
       "   pos_char2_acts  neg_char2_acts     ...       neg  \\\n",
       "0               0               1     ...         1   \n",
       "1               0               0     ...         0   \n",
       "2               1               0     ...         0   \n",
       "3               0               0     ...         0   \n",
       "4               0               0     ...         2   \n",
       "\n",
       "                      filename                       unique_ID  \\\n",
       "0  aeschylus.libation.0.3.sent   aeschylus.libation.0.3.sents0   \n",
       "1  aeschylus.libation.0.3.sent   aeschylus.libation.0.3.sents9   \n",
       "2  aeschylus.libation.0.3.sent  aeschylus.libation.0.3.sents10   \n",
       "3  aeschylus.libation.0.3.sent  aeschylus.libation.0.3.sents12   \n",
       "4  aeschylus.libation.0.3.sent  aeschylus.libation.0.3.sents13   \n",
       "\n",
       "  29:posFramesFired  30:negFramesFired  31:otherFramesFired  \\\n",
       "0                 2                  2                    1   \n",
       "1                 1                  1                    0   \n",
       "2                 2                  1                    0   \n",
       "3                 0                  1                    0   \n",
       "4                 0                  0                    0   \n",
       "\n",
       "   32:posFramewrtCharFired  33:negFramewrtCharFired  \\\n",
       "0                        1                        2   \n",
       "1                        0                        0   \n",
       "2                        0                        0   \n",
       "3                        0                        0   \n",
       "4                        0                        0   \n",
       "\n",
       "   34:otherFrameswrtCharFired  manualLabel  \n",
       "0                           1            p  \n",
       "1                           0            p  \n",
       "2                           0            p  \n",
       "3                           0            p  \n",
       "4                           0            p  \n",
       "\n",
       "[5 rows x 21 columns]"
      ]
     },
     "execution_count": 254,
     "metadata": {},
     "output_type": "execute_result"
    }
   ],
   "source": [
    "df = pd.read_csv(\"filtered_labelled_features.csv\")\n",
    "df = df.drop(['Unnamed: 0', 'Unnamed: 0.1'], axis=1)\n",
    "df.head()"
   ]
  },
  {
   "cell_type": "code",
   "execution_count": 255,
   "metadata": {
    "collapsed": true
   },
   "outputs": [],
   "source": [
    "y = df[['manualLabel', 'sequence', 'sid']]\n",
    "x = df.drop(['manualLabel', 'filename', 'unique_ID'], axis=1)"
   ]
  },
  {
   "cell_type": "code",
   "execution_count": 256,
   "metadata": {},
   "outputs": [],
   "source": [
    "sequences_output = []\n",
    "output = [[] for i in range(100)]\n",
    "for index, row in y.iterrows():\n",
    "    for s in range(1, 101):\n",
    "        if row['manualLabel'] == 'p':\n",
    "            label = 1\n",
    "        elif row['manualLabel'] == 'n':\n",
    "            label = 0\n",
    "        if row['sequence'] == s:\n",
    "            if s in sequences_output:\n",
    "                i = sequences_output.index(s)\n",
    "                output[i].append(label)\n",
    "            else:\n",
    "                sequences_output.append(s)\n",
    "                i = sequences_output.index(s)\n",
    "                output[i].append(label)"
   ]
  },
  {
   "cell_type": "code",
   "execution_count": 257,
   "metadata": {},
   "outputs": [
    {
     "data": {
      "text/plain": [
       "24"
      ]
     },
     "execution_count": 257,
     "metadata": {},
     "output_type": "execute_result"
    }
   ],
   "source": [
    "longest_output = 0\n",
    "for l in output:\n",
    "    if longest_output < len(l):\n",
    "        longest_output = len(l)\n",
    "\n",
    "longest_output"
   ]
  },
  {
   "cell_type": "code",
   "execution_count": 258,
   "metadata": {},
   "outputs": [
    {
     "name": "stdout",
     "output_type": "stream",
     "text": [
      "100 1\n",
      "[1 2 3 4 5]\n",
      "[list([1, 1, 1, 1, 1, 1, 1, 1, 1, 1]) list([0, 0, 0, 0, 0, 0])\n",
      " list([0, 0, 0, 0, 0]) list([0, 0, 0, 0, 0, 0, 0])\n",
      " list([0, 0, 0, 0, 0, 0])]\n"
     ]
    }
   ],
   "source": [
    "sequences_output = np.array(sequences_output)\n",
    "output = np.array(output)\n",
    "print(len(sequences_output), len(output.shape))\n",
    "print(sequences_output[:5])\n",
    "print(output[:5])"
   ]
  },
  {
   "cell_type": "code",
   "execution_count": 259,
   "metadata": {},
   "outputs": [],
   "source": [
    "train_inputs, test_inputs, train_output, test_output = train_test_split(inputs, output, test_size=0.2, random_state=42)"
   ]
  },
  {
   "cell_type": "code",
   "execution_count": 260,
   "metadata": {},
   "outputs": [],
   "source": [
    "test_output = sequence.pad_sequences(test_output, maxlen=longest_output)\n",
    "train_output = sequence.pad_sequences(train_output, maxlen=longest_output)"
   ]
  },
  {
   "cell_type": "code",
   "execution_count": 261,
   "metadata": {},
   "outputs": [],
   "source": [
    "sequences_input = []\n",
    "inputs = [np.array([]) for i in range(100)]\n",
    "for index, row in x.iterrows():\n",
    "    for s in range(1, 101):\n",
    "        if row['sequence'] == s:\n",
    "            if s in sequences_input:\n",
    "                i = sequences_input.index(s)\n",
    "                inputs[i] = np.append(inputs[i], row.values[2:]) \n",
    "            else:\n",
    "                sequences_input.append(s)\n",
    "                i = sequences_input.index(s)\n",
    "                inputs[i] = np.append(inputs[i], row.values[2:]) "
   ]
  },
  {
   "cell_type": "code",
   "execution_count": 262,
   "metadata": {},
   "outputs": [
    {
     "name": "stdout",
     "output_type": "stream",
     "text": [
      "160\n",
      "384\n"
     ]
    },
    {
     "data": {
      "text/plain": [
       "384"
      ]
     },
     "execution_count": 262,
     "metadata": {},
     "output_type": "execute_result"
    }
   ],
   "source": [
    "longest_input = 0\n",
    "for l in inputs:\n",
    "    if longest_input < len(l):\n",
    "        print(len(l))\n",
    "        longest_input = len(l)\n",
    "\n",
    "longest_input"
   ]
  },
  {
   "cell_type": "code",
   "execution_count": 263,
   "metadata": {},
   "outputs": [],
   "source": [
    "sequences_input = np.array(sequences_input)\n",
    "inputs = np.array(inputs)"
   ]
  },
  {
   "cell_type": "code",
   "execution_count": 264,
   "metadata": {},
   "outputs": [],
   "source": [
    "test_inputs = sequence.pad_sequences(test_inputs, maxlen=longest_input)\n",
    "train_inputs = sequence.pad_sequences(train_inputs, maxlen=longest_input)"
   ]
  },
  {
   "cell_type": "code",
   "execution_count": 265,
   "metadata": {},
   "outputs": [
    {
     "name": "stdout",
     "output_type": "stream",
     "text": [
      "80\n",
      "20\n"
     ]
    }
   ],
   "source": [
    "print((train_sequences_output == train_sequences_input).sum())\n",
    "print((test_sequences_output == test_sequences_input).sum())"
   ]
  },
  {
   "cell_type": "code",
   "execution_count": 266,
   "metadata": {},
   "outputs": [],
   "source": [
    "train_inputs = train_inputs.reshape((train_inputs.shape[0], 1, train_inputs.shape[1]))\n",
    "test_inputs = test_inputs.reshape((test_inputs.shape[0], 1, test_inputs.shape[1]))"
   ]
  },
  {
   "cell_type": "code",
   "execution_count": 267,
   "metadata": {},
   "outputs": [
    {
     "name": "stdout",
     "output_type": "stream",
     "text": [
      "Train on 80 samples, validate on 20 samples\n",
      "Epoch 1/10\n",
      " - 5s - loss: 0.6909 - acc: 0.6266 - val_loss: 0.6868 - val_acc: 0.7917\n",
      "Epoch 2/10\n",
      " - 0s - loss: 0.6845 - acc: 0.7995 - val_loss: 0.6791 - val_acc: 0.8521\n",
      "Epoch 3/10\n",
      " - 0s - loss: 0.6764 - acc: 0.8333 - val_loss: 0.6675 - val_acc: 0.8667\n",
      "Epoch 4/10\n",
      " - 0s - loss: 0.6637 - acc: 0.8391 - val_loss: 0.6483 - val_acc: 0.8667\n",
      "Epoch 5/10\n",
      " - 0s - loss: 0.6422 - acc: 0.8411 - val_loss: 0.6161 - val_acc: 0.8625\n",
      "Epoch 6/10\n",
      " - 0s - loss: 0.6104 - acc: 0.8406 - val_loss: 0.5655 - val_acc: 0.8792\n",
      "Epoch 7/10\n",
      " - 0s - loss: 0.5642 - acc: 0.8490 - val_loss: 0.4979 - val_acc: 0.8833\n",
      "Epoch 8/10\n",
      " - 0s - loss: 0.5102 - acc: 0.8531 - val_loss: 0.4262 - val_acc: 0.8833\n",
      "Epoch 9/10\n",
      " - 0s - loss: 0.4542 - acc: 0.8630 - val_loss: 0.3671 - val_acc: 0.8812\n",
      "Epoch 10/10\n",
      " - 0s - loss: 0.4103 - acc: 0.8625 - val_loss: 0.3269 - val_acc: 0.8812\n"
     ]
    },
    {
     "data": {
      "image/png": "[encoded data removed]",
      "text/plain": [
       "<matplotlib.figure.Figure at 0x151d86828>"
      ]
     },
     "metadata": {},
     "output_type": "display_data"
    }
   ],
   "source": [
    "# design network\n",
    "model = Sequential()\n",
    "model.add(LSTM(50, input_shape=(train_inputs.shape[1], train_inputs.shape[2]), return_sequences=True))\n",
    "model.add(Dropout(0.2))\n",
    "model.add(LSTM(50))\n",
    "model.add(Dropout(0.2))\n",
    "model.add(Dense(train_output.shape[1]))\n",
    "model.add(Activation('sigmoid'))\n",
    "\n",
    "model.compile(loss='binary_crossentropy', optimizer='adam', metrics=['accuracy'])\n",
    "es = keras.callbacks.EarlyStopping(monitor='val_loss',\n",
    "                              min_delta=0,\n",
    "                              patience=5,\n",
    "                              verbose=2, mode='auto')\n",
    "# fit network\n",
    "history = model.fit(train_inputs, train_output, epochs=10, batch_size=10, validation_data=(test_inputs, test_output), verbose=2, shuffle=False, callbacks=[es])\n",
    "# plot history\n",
    "pyplot.plot(history.history['loss'], label='train')\n",
    "pyplot.plot(history.history['val_loss'], label='test')\n",
    "pyplot.legend()\n",
    "pyplot.show()"
   ]
  },
  {
   "cell_type": "code",
   "execution_count": 268,
   "metadata": {},
   "outputs": [
    {
     "data": {
      "text/plain": [
       "(20, 24)"
      ]
     },
     "execution_count": 268,
     "metadata": {},
     "output_type": "execute_result"
    }
   ],
   "source": [
    "# make a prediction\n",
    "yhat = model.predict(test_inputs)\n",
    "yhat.shape"
   ]
  },
  {
   "cell_type": "code",
   "execution_count": 269,
   "metadata": {},
   "outputs": [],
   "source": [
    "yhat = yhat.flatten()\n",
    "for index, num in enumerate(yhat):\n",
    "    if num < 0.5:\n",
    "        yhat[index] = 0\n",
    "    elif num >= 0.5:\n",
    "        yhat[index] = 1\n",
    "\n",
    "yhat\n",
    "test_output = test_output.flatten()"
   ]
  },
  {
   "cell_type": "code",
   "execution_count": 275,
   "metadata": {},
   "outputs": [
    {
     "data": {
      "text/plain": [
       "array([[  0., 380.],\n",
       "       [  1., 100.]])"
      ]
     },
     "execution_count": 275,
     "metadata": {},
     "output_type": "execute_result"
    }
   ],
   "source": [
    "unique, counts = np.unique(yhat, return_counts=True)\n",
    "\n",
    "np.asarray((unique, counts)).T"
   ]
  },
  {
   "cell_type": "code",
   "execution_count": 270,
   "metadata": {},
   "outputs": [],
   "source": [
    "import sklearn\n",
    "from sklearn.metrics import average_precision_score\n",
    "\n",
    "CF = sklearn.metrics.confusion_matrix(test_output, yhat)"
   ]
  },
  {
   "cell_type": "code",
   "execution_count": 230,
   "metadata": {},
   "outputs": [
    {
     "name": "stdout",
     "output_type": "stream",
     "text": [
      "{'n': {'precision': 0.9329758713136729, 'recall': 0.9157894736842105, 'F1': 0.9243027888446214}, 'p': {'precision': 0.7009345794392523, 'recall': 0.75, 'F1': 0.7246376811594203}}\n"
     ]
    }
   ],
   "source": [
    "labs = ['n', 'p']\n",
    "\n",
    "FP = {}\n",
    "for r, label in enumerate(labs):\n",
    "    fp = 0\n",
    "    for c in range(2):\n",
    "        if r != c:\n",
    "            fp += CF[r][c]\n",
    "        FP[label] = fp\n",
    "\n",
    "\n",
    "FN = {}\n",
    "for c, label in enumerate(labs):\n",
    "    fn = 0\n",
    "    for r in range(2):\n",
    "        if c != r:\n",
    "            fn += CF[r][c]\n",
    "        FN[label] = fn\n",
    "\n",
    "TP = {}\n",
    "for r, label in enumerate(labs):\n",
    "    for c in range(2):\n",
    "        if r == c:\n",
    "            TP[label] = CF[r][c]\n",
    "\n",
    "results = {'n': {}, 'p': {}}\n",
    "\n",
    "for lab in labs:\n",
    "    results[lab]['precision'] = TP[lab] / (TP[lab] + FP[lab])\n",
    "    results[lab]['recall'] = TP[lab] / (TP[lab] + FN[lab])\n",
    "    results[lab]['F1'] = 2 * ((results[lab]['precision'] * results[lab]['recall']) / (results[lab]['precision'] + results[lab]['recall']))\n",
    "\n",
    "print(results)"
   ]
  },
  {
   "cell_type": "code",
   "execution_count": 233,
   "metadata": {},
   "outputs": [],
   "source": [
    "results = pd.DataFrame()\n",
    "results['pred'] = yhat\n",
    "results['true'] = test_output\n",
    "results['correct'] = (results['pred'] == results['true']).astype(int)"
   ]
  },
  {
   "cell_type": "code",
   "execution_count": 234,
   "metadata": {},
   "outputs": [
    {
     "data": {
      "text/plain": [
       "0.88125"
      ]
     },
     "execution_count": 234,
     "metadata": {},
     "output_type": "execute_result"
    }
   ],
   "source": [
    "results['correct'].sum()/results['correct'].count()"
   ]
  },
  {
   "cell_type": "code",
   "execution_count": 276,
   "metadata": {},
   "outputs": [
    {
     "data": {
      "text/plain": [
       "array([0., 0., 0., 0., 0., 0., 0., 0., 0., 0., 0., 0., 0., 0., 0., 0., 0.,\n",
       "       0., 0., 1., 1., 1., 1., 1., 0., 0., 0., 0., 0., 0., 0., 0., 0., 0.,\n",
       "       0., 0., 0., 0., 0., 0., 0., 0., 0., 1., 1., 1., 1., 1., 0., 0., 0.,\n",
       "       0., 0., 0., 0., 0., 0., 0., 0., 0., 0., 0., 0., 0., 0., 0., 0., 1.,\n",
       "       1., 1., 1., 1., 0., 0., 0., 0., 0., 0., 0., 0., 0., 0., 0., 0., 0.,\n",
       "       0., 0., 0., 0., 0., 0., 1., 1., 1., 1., 1., 0., 0., 0., 0., 0., 0.,\n",
       "       0., 0., 0., 0., 0., 0., 0., 0., 0., 0., 0., 0., 0., 1., 1., 1., 1.,\n",
       "       1., 0., 0., 0., 0., 0., 0., 0., 0., 0., 0., 0., 0., 0., 0., 0., 0.,\n",
       "       0., 0., 0., 1., 1., 1., 1., 1., 0., 0., 0., 0., 0., 0., 0., 0., 0.,\n",
       "       0., 0., 0., 0., 0., 0., 0., 0., 0., 0., 1., 1., 1., 1., 1., 0., 0.,\n",
       "       0., 0., 0., 0., 0., 0., 0., 0., 0., 0., 0., 0., 0., 0., 0., 0., 0.,\n",
       "       1., 1., 1., 1., 1., 0., 0., 0., 0., 0., 0., 0., 0., 0., 0., 0., 0.,\n",
       "       0., 0., 0., 0., 0., 0., 0., 1., 1., 1., 1., 1., 0., 0., 0., 0., 0.,\n",
       "       0., 0., 0., 0., 0., 0., 0., 0., 0., 0., 0., 0., 0., 0., 1., 1., 1.,\n",
       "       1., 1., 0., 0., 0., 0., 0., 0., 0., 0., 0., 0., 0., 0., 0., 0., 0.,\n",
       "       0., 0., 0., 0., 1., 1., 1., 1., 1., 0., 0., 0., 0., 0., 0., 0., 0.,\n",
       "       0., 0., 0., 0., 0., 0., 0., 0., 0., 0., 0., 1., 1., 1., 1., 1., 0.,\n",
       "       0., 0., 0., 0., 0., 0., 0., 0., 0., 0., 0., 0., 0., 0., 0., 0., 0.,\n",
       "       0., 1., 1., 1., 1., 1., 0., 0., 0., 0., 0., 0., 0., 0., 0., 0., 0.,\n",
       "       0., 0., 0., 0., 0., 0., 0., 0., 1., 1., 1., 1., 1., 0., 0., 0., 0.,\n",
       "       0., 0., 0., 0., 0., 0., 0., 0., 0., 0., 0., 0., 0., 0., 0., 1., 1.,\n",
       "       1., 1., 1., 0., 0., 0., 0., 0., 0., 0., 0., 0., 0., 0., 0., 0., 0.,\n",
       "       0., 0., 0., 0., 0., 1., 1., 1., 1., 1., 0., 0., 0., 0., 0., 0., 0.,\n",
       "       0., 0., 0., 0., 0., 0., 0., 0., 0., 0., 0., 0., 1., 1., 1., 1., 1.,\n",
       "       0., 0., 0., 0., 0., 0., 0., 0., 0., 0., 0., 0., 0., 0., 0., 0., 0.,\n",
       "       0., 0., 1., 1., 1., 1., 1., 0., 0., 0., 0., 0., 0., 0., 0., 0., 0.,\n",
       "       0., 0., 0., 0., 0., 0., 0., 0., 0., 1., 1., 1., 1., 1., 0., 0., 0.,\n",
       "       0., 0., 0., 0., 0., 0., 0., 0., 0., 0., 0., 0., 0., 0., 0., 0., 1.,\n",
       "       1., 1., 1., 1.], dtype=float32)"
      ]
     },
     "execution_count": 276,
     "metadata": {},
     "output_type": "execute_result"
    }
   ],
   "source": [
    "yhat"
   ]
  },
  {
   "cell_type": "code",
   "execution_count": null,
   "metadata": {
    "collapsed": true
   },
   "outputs": [],
   "source": []
  }
 ],
 "metadata": {
  "kernelspec": {
   "display_name": "Python 3",
   "language": "python",
   "name": "python3"
  },
  "language_info": {
   "codemirror_mode": {
    "name": "ipython",
    "version": 3
   },
   "file_extension": ".py",
   "mimetype": "text/x-python",
   "name": "python",
   "nbconvert_exporter": "python",
   "pygments_lexer": "ipython3",
   "version": "3.6.3"
  }
 },
 "nbformat": 4,
 "nbformat_minor": 2
}
