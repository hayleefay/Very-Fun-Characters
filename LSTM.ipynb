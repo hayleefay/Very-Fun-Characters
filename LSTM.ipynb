{
 "cells": [
  {
   "cell_type": "code",
   "execution_count": 84,
   "metadata": {},
   "outputs": [],
   "source": [
    "import numpy\n",
    "from keras.models import Sequential\n",
    "from keras.layers import Dense, LSTM, Dropout, Activation\n",
    "from keras.preprocessing import sequence\n",
    "from keras.datasets import imdb\n",
    "import pandas as pd\n",
    "import numpy as np\n",
    "import keras\n",
    "from matplotlib import pyplot\n",
    "# fix random seed for reproducibility\n",
    "numpy.random.seed(7)"
   ]
  },
  {
   "cell_type": "code",
   "execution_count": 2,
   "metadata": {},
   "outputs": [
    {
     "name": "stderr",
     "output_type": "stream",
     "text": [
      "/usr/local/anaconda3/lib/python3.6/site-packages/ipykernel_launcher.py:2: ParserWarning: Falling back to the 'python' engine because the 'c' engine does not support regex separators (separators > 1 char and different from '\\s+' are interpreted as regex); you can avoid this warning by specifying engine='python'.\n",
      "  \n"
     ]
    }
   ],
   "source": [
    "df = pd.read_csv(\"fully_features.csv\")\n",
    "Y = pd.read_csv(\"all_our_annotations.csv\", sep=\":::\")"
   ]
  },
  {
   "cell_type": "code",
   "execution_count": 3,
   "metadata": {
    "collapsed": true
   },
   "outputs": [],
   "source": [
    "all_data = df.merge(Y)\n",
    "all_data = all_data.drop(['Unnamed: 0', 'char1', 'char2', 'Sentence'], axis=1)\n",
    "y = all_data[['manualLabel', 'sequence', 'sid']]\n",
    "x = all_data.drop(['manualLabel'], axis=1)"
   ]
  },
  {
   "cell_type": "code",
   "execution_count": 4,
   "metadata": {},
   "outputs": [],
   "source": [
    "sequences_output = []\n",
    "output = [[] for i in range(100)]\n",
    "for index, row in y.iterrows():\n",
    "    for s in range(1, 101):\n",
    "        if row['manualLabel'] == 'p':\n",
    "            label = 2\n",
    "        elif row['manualLabel'] == 'u':\n",
    "            label = 1\n",
    "        elif row['manualLabel'] == 'n':\n",
    "            label = 0\n",
    "        if row['sequence'] == s:\n",
    "            if s in sequences_output:\n",
    "                i = sequences_output.index(s)\n",
    "                output[i].append(label)\n",
    "            else:\n",
    "                sequences_output.append(s)\n",
    "                i = sequences_output.index(s)\n",
    "                output[i].append(label)\n",
    "                "
   ]
  },
  {
   "cell_type": "code",
   "execution_count": 5,
   "metadata": {},
   "outputs": [
    {
     "data": {
      "text/plain": [
       "24"
      ]
     },
     "execution_count": 5,
     "metadata": {},
     "output_type": "execute_result"
    }
   ],
   "source": [
    "longest_output = 0\n",
    "for l in output:\n",
    "    if longest_output < len(l):\n",
    "        longest_output = len(l)\n",
    "\n",
    "longest_output"
   ]
  },
  {
   "cell_type": "code",
   "execution_count": 6,
   "metadata": {},
   "outputs": [
    {
     "name": "stdout",
     "output_type": "stream",
     "text": [
      "100 1\n",
      "[1 2 3 4 5]\n",
      "[list([2, 2, 2, 2, 2, 2, 2, 2, 2, 2]) list([0, 0, 0, 0, 0, 0])\n",
      " list([0, 0, 0, 0, 0]) list([0, 0, 0, 0, 0, 0, 0])\n",
      " list([0, 0, 0, 0, 0, 0])]\n"
     ]
    }
   ],
   "source": [
    "sequences_output = np.array(sequences_output)\n",
    "output = np.array(output)\n",
    "print(len(sequences_output), len(output.shape))\n",
    "print(sequences_output[:5])\n",
    "print(output[:5])"
   ]
  },
  {
   "cell_type": "code",
   "execution_count": 7,
   "metadata": {},
   "outputs": [],
   "source": [
    "train_sequences_output, train_output = sequences_output[:80], output[:80]\n",
    "test_sequences_output, test_output = sequences_output[80:], output[80:]"
   ]
  },
  {
   "cell_type": "code",
   "execution_count": 8,
   "metadata": {},
   "outputs": [],
   "source": [
    "test_output = sequence.pad_sequences(test_output, maxlen=longest_output)\n",
    "train_output = sequence.pad_sequences(train_output, maxlen=longest_output)"
   ]
  },
  {
   "cell_type": "code",
   "execution_count": 9,
   "metadata": {},
   "outputs": [],
   "source": [
    "sequences_input = []\n",
    "inputs = [np.array([]) for i in range(100)]\n",
    "for index, row in x.iterrows():\n",
    "    for s in range(1, 101):\n",
    "        if row['sequence'] == s:\n",
    "            if s in sequences_input:\n",
    "                i = sequences_input.index(s)\n",
    "                inputs[i] = np.append(inputs[i], row.values[2:]) \n",
    "            else:\n",
    "                sequences_input.append(s)\n",
    "                i = sequences_input.index(s)\n",
    "                inputs[i] = np.append(inputs[i], row.values[2:]) "
   ]
  },
  {
   "cell_type": "code",
   "execution_count": 10,
   "metadata": {},
   "outputs": [
    {
     "data": {
      "text/plain": [
       "240"
      ]
     },
     "execution_count": 10,
     "metadata": {},
     "output_type": "execute_result"
    }
   ],
   "source": [
    "longest_input = 0\n",
    "for l in inputs:\n",
    "    if longest_input < len(l):\n",
    "        longest_input = len(l)\n",
    "\n",
    "longest_input"
   ]
  },
  {
   "cell_type": "code",
   "execution_count": 11,
   "metadata": {},
   "outputs": [
    {
     "name": "stdout",
     "output_type": "stream",
     "text": [
      "100 1\n",
      "[1 2 3 4 5]\n",
      "[array([0, 0, 0.0, 0.0, 0.0, 0.0, 0.0, 1.0, 0.0, 1.0, 0, 0, 0.0, 0.0, 0.0,\n",
      "       0.0, 0.0, 0.0, 0.0, 0.0, 0, 0, 0.0, 0.0, 0.0, 0.0, 1.0, 0.0, 0.0,\n",
      "       0.0, 0, 0, 0.0, 0.0, 0.0, 0.0, 0.0, 0.0, 0.0, 0.0, 0, 0, 0.0, 0.0,\n",
      "       0.0, 0.0, 0.0, 0.0, 0.0, 2.0, 0, 0, 0.0, 0.0, 0.0, 0.0, 0.0, 0.0,\n",
      "       0.0, 0.0, 0, 0, 0.0, 0.0, 0.0, 0.0, 0.0, 0.0, 0.0, 0.0, 0, 0, 1.0,\n",
      "       0.0, 0.0, 0.0, 0.0, 0.0, 1.0, 0.0, 0, 0, 0.0, 0.0, 0.0, 0.0, 0.0,\n",
      "       0.0, 0.0, 0.0, 0, 0, 0.0, 0.0, 0.0, 0.0, 0.0, 0.0, 0.0, 0.0],\n",
      "      dtype=object)\n",
      " array([0, 0, 0.0, 0.0, 0.0, 0.0, 0.0, 0.0, 1.0, 0.0, 0, 0, 0.0, 0.0, 0.0,\n",
      "       0.0, 0.0, 0.0, 0.0, 0.0, 0, 0, 0.0, 0.0, 0.0, 0.0, 0.0, 0.0, 0.0,\n",
      "       1.0, 0, 0, 0.0, 0.0, 0.0, 0.0, 0.0, 0.0, 0.0, 1.0, 0, 0, 0.0, 0.0,\n",
      "       0.0, 0.0, 0.0, 0.0, 0.0, 0.0, 0, 0, 0.0, 0.0, 0.0, 0.0, 0.0, 0.0,\n",
      "       1.0, 0.0], dtype=object)\n",
      " array([0, 0, 0.0, 0.0, 0.0, 0.0, 0.0, 1.0, 1.0, 0.0, 0, 0, 1.0, 0.0, 0.0,\n",
      "       1.0, 0.0, 0.0, 1.0, 1.0, 0, 0, 0.0, 0.0, 0.0, 0.0, 0.0, 0.0, 0.0,\n",
      "       0.0, 0, 0, 0.0, 0.0, 0.0, 0.0, 0.0, 0.0, 0.0, 1.0, 0, 0, 0.0, 0.0,\n",
      "       0.0, 0.0, 0.0, 0.0, 0.0, 0.0], dtype=object)\n",
      " array([0, 0, 0.0, 0.0, 0.0, 1.0, 0.0, 0.0, 1.0, 0.0, 0, 0, 0.0, 0.0, 0.0,\n",
      "       0.0, 0.0, 0.0, 0.0, 0.0, 0, 0, 0.0, 0.0, 0.0, 0.0, 0.0, 0.0, 0.0,\n",
      "       1.0, 0, 0, 0.0, 0.0, 0.0, 0.0, 0.0, 0.0, 0.0, 1.0, 0, 0, 0.0, 0.0,\n",
      "       0.0, 0.0, 0.0, 1.0, 0.0, 1.0, 1, 0, 0.0, 1.0, 0.0, 0.0, 0.0, 0.0,\n",
      "       0.0, 1.0, 0, 0, 0.0, 0.0, 0.0, 0.0, 0.0, 0.0, 1.0, 0.0],\n",
      "      dtype=object)\n",
      " array([0, 0, 0.0, 0.0, 0.0, 0.0, 0.0, 0.0, 0.0, 0.0, 0, 0, 0.0, 0.0, 0.0,\n",
      "       0.0, 0.0, 0.0, 0.0, 0.0, 0, 0, 0.0, 0.0, 0.0, 1.0, 0.0, 0.0, 1.0,\n",
      "       1.0, 0, 0, 0.0, 0.0, 0.0, 1.0, 0.0, 0.0, 1.0, 0.0, 0, 0, 0.0, 0.0,\n",
      "       0.0, 0.0, 1.0, 0.0, 1.0, 0.0, 0, 0, 0.0, 0.0, 0.0, 0.0, 0.0, 0.0,\n",
      "       0.0, 1.0], dtype=object)]\n"
     ]
    }
   ],
   "source": [
    "sequences_input = np.array(sequences_input)\n",
    "inputs = np.array(inputs)\n",
    "print(len(sequences_input), len(inputs.shape))\n",
    "print(sequences_input[:5])\n",
    "print(inputs[:5])"
   ]
  },
  {
   "cell_type": "code",
   "execution_count": 12,
   "metadata": {
    "collapsed": true
   },
   "outputs": [],
   "source": [
    "train_sequences_input, train_inputs = sequences_input[:80], inputs[:80]\n",
    "test_sequences_input, test_inputs = sequences_input[80:], inputs[80:]"
   ]
  },
  {
   "cell_type": "code",
   "execution_count": 13,
   "metadata": {},
   "outputs": [],
   "source": [
    "test_inputs = sequence.pad_sequences(test_inputs, maxlen=longest_input)\n",
    "train_inputs = sequence.pad_sequences(train_inputs, maxlen=longest_input)"
   ]
  },
  {
   "cell_type": "code",
   "execution_count": 14,
   "metadata": {},
   "outputs": [
    {
     "data": {
      "text/plain": [
       "80"
      ]
     },
     "execution_count": 14,
     "metadata": {},
     "output_type": "execute_result"
    }
   ],
   "source": [
    "(train_sequences_output == train_sequences_input).sum()"
   ]
  },
  {
   "cell_type": "code",
   "execution_count": 15,
   "metadata": {},
   "outputs": [],
   "source": [
    "train_inputs = train_inputs.reshape((train_inputs.shape[0], 1, train_inputs.shape[1]))\n",
    "test_inputs = test_inputs.reshape((test_inputs.shape[0], 1, test_inputs.shape[1]))\n",
    "# train_output = train_output.reshape((train_output.shape[0], 1, train_inputs.shape[1]))\n",
    "# test_output = test_output.reshape((test_output.shape[0], 1, test_output.shape[1]))"
   ]
  },
  {
   "cell_type": "code",
   "execution_count": 113,
   "metadata": {},
   "outputs": [
    {
     "name": "stdout",
     "output_type": "stream",
     "text": [
      "Train on 80 samples, validate on 20 samples\n",
      "Epoch 1/4\n",
      " - 4s - loss: 37.2899 - acc: 0.0375 - val_loss: 30.5651 - val_acc: 0.0000e+00\n",
      "Epoch 2/4\n",
      " - 0s - loss: 37.1637 - acc: 0.0875 - val_loss: 30.4459 - val_acc: 0.0000e+00\n",
      "Epoch 3/4\n",
      " - 0s - loss: 37.0194 - acc: 0.0625 - val_loss: 30.3055 - val_acc: 0.0000e+00\n",
      "Epoch 4/4\n",
      " - 0s - loss: 36.8342 - acc: 0.1625 - val_loss: 30.1279 - val_acc: 0.0000e+00\n"
     ]
    },
    {
     "data": {
      "image/png": "[encoded data removed]",
      "text/plain": [
       "<matplotlib.figure.Figure at 0x139186a58>"
      ]
     },
     "metadata": {},
     "output_type": "display_data"
    }
   ],
   "source": [
    "# design network\n",
    "model = Sequential()\n",
    "model.add(LSTM(50, input_shape=(train_inputs.shape[1], train_inputs.shape[2]), return_sequences=True))\n",
    "model.add(Dropout(0.2))\n",
    "model.add(LSTM(50))\n",
    "model.add(Dropout(0.2))\n",
    "model.add(Dense(train_output.shape[1], activation='softmax'))\n",
    "# model.add(Activation('sigmoid'))\n",
    "\n",
    "model.compile(loss='categorical_crossentropy', optimizer='adam', metrics=['accuracy'])\n",
    "es = keras.callbacks.EarlyStopping(monitor='val_loss',\n",
    "                              min_delta=0,\n",
    "                              patience=5,\n",
    "                              verbose=2, mode='auto')\n",
    "# fit network\n",
    "history = model.fit(train_inputs, train_output, epochs=4, batch_size=15, validation_data=(test_inputs, test_output), verbose=2, shuffle=False, callbacks=[es])\n",
    "# plot history\n",
    "pyplot.plot(history.history['loss'], label='train')\n",
    "pyplot.plot(history.history['val_loss'], label='test')\n",
    "pyplot.legend()\n",
    "pyplot.show()"
   ]
  },
  {
   "cell_type": "code",
   "execution_count": 96,
   "metadata": {},
   "outputs": [
    {
     "name": "stdout",
     "output_type": "stream",
     "text": [
      "(20, 1, 240)\n",
      "(80, 24)\n",
      "(80, 1, 240)\n",
      "(20, 24)\n"
     ]
    }
   ],
   "source": [
    "print(test_inputs.shape)\n",
    "print(train_output.shape)\n",
    "print(train_inputs.shape)\n",
    "print(test_output.shape)"
   ]
  },
  {
   "cell_type": "code",
   "execution_count": 114,
   "metadata": {},
   "outputs": [],
   "source": [
    "# make a prediction\n",
    "yhat = model.predict(test_inputs)"
   ]
  },
  {
   "cell_type": "code",
   "execution_count": 98,
   "metadata": {},
   "outputs": [
    {
     "data": {
      "text/plain": [
       "(20, 24)"
      ]
     },
     "execution_count": 98,
     "metadata": {},
     "output_type": "execute_result"
    }
   ],
   "source": [
    "yhat.shape"
   ]
  },
  {
   "cell_type": "code",
   "execution_count": 109,
   "metadata": {},
   "outputs": [
    {
     "name": "stdout",
     "output_type": "stream",
     "text": [
      "\r",
      "20/20 [==============================] - 0s 204us/step\n"
     ]
    }
   ],
   "source": [
    "scores = model.evaluate(test_inputs, test_output, verbose=1)"
   ]
  },
  {
   "cell_type": "code",
   "execution_count": 110,
   "metadata": {},
   "outputs": [
    {
     "data": {
      "text/plain": [
       "[0.6669095754623413, 0.8020833134651184]"
      ]
     },
     "execution_count": 110,
     "metadata": {},
     "output_type": "execute_result"
    }
   ],
   "source": [
    "scores"
   ]
  },
  {
   "cell_type": "code",
   "execution_count": 115,
   "metadata": {},
   "outputs": [
    {
     "data": {
      "text/plain": [
       "array([[0.04101577, 0.03937037, 0.04005147, 0.0406427 , 0.03753829,\n",
       "        0.03953711, 0.04056536, 0.03897655, 0.04177367, 0.03892694,\n",
       "        0.04039138, 0.03910809, 0.04090648, 0.04059402, 0.04059999,\n",
       "        0.04019839, 0.04473227, 0.04270084, 0.0433534 , 0.04646766,\n",
       "        0.04566354, 0.04589733, 0.04529675, 0.04569165],\n",
       "       [0.04026691, 0.03931818, 0.03964147, 0.04040628, 0.03708543,\n",
       "        0.03995737, 0.04119059, 0.03885381, 0.04145238, 0.03945063,\n",
       "        0.04084352, 0.03963558, 0.04102303, 0.04084422, 0.04039605,\n",
       "        0.04132358, 0.04353162, 0.04213717, 0.04303824, 0.04684282,\n",
       "        0.04624276, 0.04510652, 0.04505305, 0.04635876],\n",
       "       [0.04106673, 0.04015121, 0.04065046, 0.0406565 , 0.03934887,\n",
       "        0.04058468, 0.04062077, 0.0403427 , 0.04122626, 0.03987231,\n",
       "        0.04040426, 0.04057431, 0.04071646, 0.0406237 , 0.04113065,\n",
       "        0.04144222, 0.04344924, 0.04273084, 0.04302834, 0.0445486 ,\n",
       "        0.04389347, 0.04432538, 0.04412383, 0.04448821],\n",
       "       [0.04085565, 0.03979536, 0.04052085, 0.04074572, 0.03859339,\n",
       "        0.04027382, 0.04086491, 0.03962681, 0.04120684, 0.03982009,\n",
       "        0.04076039, 0.03989926, 0.04136468, 0.04079238, 0.04077941,\n",
       "        0.04130213, 0.04346503, 0.04270817, 0.04332969, 0.04519038,\n",
       "        0.04454524, 0.04473356, 0.04415562, 0.04467069],\n",
       "       [0.04121165, 0.03954316, 0.04040925, 0.04035734, 0.03835205,\n",
       "        0.03990763, 0.04095479, 0.04008864, 0.04091332, 0.03997962,\n",
       "        0.04037881, 0.03940019, 0.04198252, 0.04104506, 0.04055633,\n",
       "        0.04137469, 0.0438756 , 0.04321047, 0.04361711, 0.04428939,\n",
       "        0.04486742, 0.04490209, 0.04393085, 0.04485196],\n",
       "       [0.04097496, 0.04069411, 0.04084317, 0.04033992, 0.03956122,\n",
       "        0.04084747, 0.04083765, 0.03971555, 0.04109057, 0.04028938,\n",
       "        0.04113773, 0.0405024 , 0.04096724, 0.04103635, 0.04110499,\n",
       "        0.04201122, 0.04302441, 0.04264251, 0.04333904, 0.04447733,\n",
       "        0.04400772, 0.0436246 , 0.0432462 , 0.04368423],\n",
       "       [0.04087552, 0.0403211 , 0.04015163, 0.04024426, 0.03933793,\n",
       "        0.04006979, 0.04083465, 0.04072272, 0.04122974, 0.04047817,\n",
       "        0.04060201, 0.03945973, 0.04064093, 0.04055529, 0.04064796,\n",
       "        0.04132883, 0.04401506, 0.04311106, 0.04350356, 0.04473293,\n",
       "        0.04453412, 0.04402841, 0.04400479, 0.04456977],\n",
       "       [0.04120202, 0.03963987, 0.04073423, 0.04072326, 0.03834397,\n",
       "        0.04095668, 0.04041489, 0.03945795, 0.04103019, 0.03915199,\n",
       "        0.04042977, 0.03934986, 0.0407744 , 0.04049939, 0.04139793,\n",
       "        0.04051805, 0.04406636, 0.04272797, 0.04352108, 0.04614329,\n",
       "        0.04470067, 0.04496546, 0.04424102, 0.04500974],\n",
       "       [0.04047685, 0.0397577 , 0.04048327, 0.04028615, 0.03786069,\n",
       "        0.04026248, 0.04090103, 0.03885148, 0.04130132, 0.03940609,\n",
       "        0.040194  , 0.0395933 , 0.04111532, 0.04102434, 0.0405828 ,\n",
       "        0.04092212, 0.04397081, 0.0427331 , 0.04332615, 0.04618678,\n",
       "        0.04538981, 0.04516824, 0.04478753, 0.04541867],\n",
       "       [0.04087142, 0.03991553, 0.04069179, 0.04026517, 0.03843361,\n",
       "        0.04005428, 0.0406796 , 0.04026016, 0.04173278, 0.039499  ,\n",
       "        0.04008922, 0.03974922, 0.04064068, 0.04059376, 0.04115487,\n",
       "        0.04125411, 0.0442196 , 0.04223594, 0.0434801 , 0.04443099,\n",
       "        0.04445232, 0.04483601, 0.04473039, 0.04572949],\n",
       "       [0.04023632, 0.04026691, 0.04037647, 0.04084462, 0.0388265 ,\n",
       "        0.04029772, 0.04094503, 0.04013106, 0.04171817, 0.03981741,\n",
       "        0.04003946, 0.04072033, 0.04040283, 0.04080101, 0.04065528,\n",
       "        0.04137976, 0.04383003, 0.04251785, 0.0432158 , 0.04506189,\n",
       "        0.04427436, 0.04467133, 0.044721  , 0.04424888],\n",
       "       [0.04139218, 0.03878474, 0.04032404, 0.04049857, 0.03623219,\n",
       "        0.03873048, 0.04019962, 0.03979901, 0.04085157, 0.03868061,\n",
       "        0.03920173, 0.03897522, 0.04120393, 0.04043087, 0.0404512 ,\n",
       "        0.03984801, 0.04563176, 0.04379393, 0.04438982, 0.04567837,\n",
       "        0.04575888, 0.04736402, 0.04589554, 0.04588377],\n",
       "       [0.04152082, 0.03885812, 0.04058163, 0.04014278, 0.03754079,\n",
       "        0.03958919, 0.04063559, 0.03961583, 0.04133501, 0.03885247,\n",
       "        0.03979831, 0.03968906, 0.04146244, 0.0405117 , 0.04089545,\n",
       "        0.04023018, 0.04430595, 0.04285527, 0.04348994, 0.04580961,\n",
       "        0.04492116, 0.04645211, 0.04533354, 0.04557307],\n",
       "       [0.0409933 , 0.03895516, 0.03968678, 0.04043133, 0.03806947,\n",
       "        0.04062358, 0.04113921, 0.03997806, 0.04167786, 0.03889706,\n",
       "        0.04007171, 0.03959954, 0.04077153, 0.04083924, 0.04074978,\n",
       "        0.04045429, 0.04392626, 0.04259603, 0.04261827, 0.04646325,\n",
       "        0.04527581, 0.04527201, 0.0452388 , 0.04567162],\n",
       "       [0.04098929, 0.03950794, 0.04061113, 0.04031372, 0.03850268,\n",
       "        0.04025492, 0.04053964, 0.03973775, 0.04084177, 0.03934696,\n",
       "        0.04042027, 0.04012882, 0.04090682, 0.0407381 , 0.04122351,\n",
       "        0.04104014, 0.04438704, 0.04297443, 0.04340732, 0.04517743,\n",
       "        0.04471399, 0.04480568, 0.04450868, 0.04492197],\n",
       "       [0.04116053, 0.03941046, 0.040626  , 0.0404665 , 0.0377226 ,\n",
       "        0.04005456, 0.04019372, 0.03944675, 0.04102175, 0.0392487 ,\n",
       "        0.04047707, 0.03996175, 0.0405939 , 0.04037483, 0.04125948,\n",
       "        0.04113625, 0.04462209, 0.0424482 , 0.04325607, 0.04585008,\n",
       "        0.04488863, 0.04524888, 0.04505319, 0.04547802],\n",
       "       [0.04139198, 0.03966754, 0.04048404, 0.04031535, 0.03839591,\n",
       "        0.04048681, 0.04037178, 0.0398543 , 0.04088759, 0.03956337,\n",
       "        0.04054617, 0.03940251, 0.04080313, 0.04063194, 0.0411631 ,\n",
       "        0.04099187, 0.04419916, 0.04295516, 0.04342815, 0.04565423,\n",
       "        0.0451878 , 0.0444185 , 0.04412329, 0.04507628],\n",
       "       [0.04088382, 0.04018898, 0.0405274 , 0.04093016, 0.03935423,\n",
       "        0.04053352, 0.0409763 , 0.04043968, 0.04115033, 0.04011073,\n",
       "        0.04034591, 0.0402135 , 0.04098868, 0.04087331, 0.04089008,\n",
       "        0.0413382 , 0.04332844, 0.04300674, 0.04328183, 0.04432772,\n",
       "        0.04408802, 0.04414499, 0.04391232, 0.04416505],\n",
       "       [0.04099092, 0.04053856, 0.04073027, 0.04094223, 0.03866786,\n",
       "        0.04052168, 0.0407044 , 0.03939374, 0.0414309 , 0.03948922,\n",
       "        0.04046442, 0.03990776, 0.04078905, 0.04113438, 0.04085473,\n",
       "        0.04129501, 0.04378025, 0.04243863, 0.04347189, 0.04533562,\n",
       "        0.04460801, 0.04468703, 0.04385554, 0.04396794],\n",
       "       [0.04123165, 0.03961083, 0.0400574 , 0.04073003, 0.03791605,\n",
       "        0.04058367, 0.04044214, 0.03966832, 0.04120005, 0.03946275,\n",
       "        0.04066433, 0.03950242, 0.04076803, 0.04080004, 0.04020701,\n",
       "        0.04079315, 0.04450156, 0.04312386, 0.04352136, 0.04650917,\n",
       "        0.0453118 , 0.04498947, 0.04383891, 0.04456599]], dtype=float32)"
      ]
     },
     "execution_count": 115,
     "metadata": {},
     "output_type": "execute_result"
    }
   ],
   "source": [
    "yhat"
   ]
  },
  {
   "cell_type": "code",
   "execution_count": null,
   "metadata": {
    "collapsed": true
   },
   "outputs": [],
   "source": []
  }
 ],
 "metadata": {
  "kernelspec": {
   "display_name": "Python 3",
   "language": "python",
   "name": "python3"
  },
  "language_info": {
   "codemirror_mode": {
    "name": "ipython",
    "version": 3
   },
   "file_extension": ".py",
   "mimetype": "text/x-python",
   "name": "python",
   "nbconvert_exporter": "python",
   "pygments_lexer": "ipython3",
   "version": "3.6.3"
  }
 },
 "nbformat": 4,
 "nbformat_minor": 2
}
